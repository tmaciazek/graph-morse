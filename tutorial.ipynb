{
 "cells": [
  {
   "cell_type": "markdown",
   "id": "c2734384",
   "metadata": {},
   "source": [
    "# Computing presentations of graph braid groups with `graph-morse`"
   ]
  },
  {
   "cell_type": "code",
   "execution_count": 1,
   "id": "ee2ec597",
   "metadata": {},
   "outputs": [],
   "source": [
    "import numpy as np\n",
    "\n",
    "from graph_utils import *\n",
    "from morse_utils import *"
   ]
  },
  {
   "cell_type": "code",
   "execution_count": 2,
   "id": "6e258269",
   "metadata": {},
   "outputs": [],
   "source": [
    "graph = load_graph_from_dataset( 'K4', 2 )"
   ]
  },
  {
   "cell_type": "code",
   "execution_count": 3,
   "id": "09bce942",
   "metadata": {},
   "outputs": [],
   "source": [
    "gens, rels = graph_braid_group(graph)"
   ]
  },
  {
   "cell_type": "code",
   "execution_count": 7,
   "id": "9e14374a",
   "metadata": {},
   "outputs": [
    {
     "name": "stdout",
     "output_type": "stream",
     "text": [
      "Generators:\n",
      "g0 = ((2, 4), 1)\n",
      "g1 = ((1, 3), 2)\n",
      "g2 = ((2, 4), 3)\n",
      "g3 = ((1, 3), 4)\n",
      "g4 = ((1, 4), 2)\n",
      "\n",
      "\n",
      "Relators:\n",
      "[('g1', 1), ('g0', -1), ('g3', -1), ('g2', 1)]\n"
     ]
    }
   ],
   "source": [
    "print(\"Generators:\")\n",
    "for i in range(len(gens)):\n",
    "    print(\n",
    "        'g'+str(i)+' = '+str(gens[i])\n",
    "    )\n",
    "print('\\n')   \n",
    "print(\"Relators:\")\n",
    "for rel in rels:\n",
    "    print( rel )"
   ]
  },
  {
   "cell_type": "markdown",
   "id": "91dc5248",
   "metadata": {},
   "source": [
    "$Br_2(K_4)=\\left\\langle g_0,\\, g_1,\\, g_2,\\, g_3,\\, g_4|\\, g_1g_0^{-1}g_3^{-1}g_2 \\right\\rangle$\n",
    "\n",
    "After Tietze transformation $g_0 \\to g_3^{-1}g_2g_1$  we get\n",
    "$Br_2(K_4)=\\left\\langle g_1,\\, g_2,\\, g_3,\\, g_4 \\right\\rangle \\cong F_4$."
   ]
  },
  {
   "cell_type": "code",
   "execution_count": null,
   "id": "b691fa43",
   "metadata": {},
   "outputs": [],
   "source": []
  }
 ],
 "metadata": {
  "kernelspec": {
   "display_name": "Python 3 (ipykernel)",
   "language": "python",
   "name": "python3"
  },
  "language_info": {
   "codemirror_mode": {
    "name": "ipython",
    "version": 3
   },
   "file_extension": ".py",
   "mimetype": "text/x-python",
   "name": "python",
   "nbconvert_exporter": "python",
   "pygments_lexer": "ipython3",
   "version": "3.11.2"
  }
 },
 "nbformat": 4,
 "nbformat_minor": 5
}
